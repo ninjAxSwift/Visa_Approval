{
 "cells": [
  {
   "cell_type": "code",
   "execution_count": 69,
   "metadata": {},
   "outputs": [],
   "source": [
    "#Dylan Abeyratne and Matt Ng\n",
    "#Ver 1.0\n",
    "#4.29.19\n",
    "\n",
    "import pandas as pd\n",
    "import numpy as np\n",
    "from sklearn import preprocessing \n",
    "from sklearn.preprocessing import LabelBinarizer\n",
    "from sklearn.cluster import KMeans\n",
    "#df.iloc[: , [2,8,25,27,28,33,34]] These are columns of interest\n",
    "\n",
    "#Load Data\n",
    "df = pd.read_excel('PERM_Disclosure_Data_FY2018_EOY.xlsx', 'PERM_FY2018')\n"
   ]
  },
  {
   "cell_type": "code",
   "execution_count": 75,
   "metadata": {},
   "outputs": [],
   "source": [
    "dfclean = df\n",
    "dfclean = dfclean.dropna(subset=['WAGE_OFFER_FROM_9089'])\n",
    "dfclean = dfclean.dropna(subset=['WAGE_OFFER_TO_9089'])\n",
    "dfclean = dfclean.dropna(subset=['WAGE_OFFER_UNIT_OF_PAY_9089'])\n",
    "dfclean = dfclean.dropna(subset=['PW_AMOUNT_9089'])\n",
    "dfclean = dfclean.dropna(subset=['CASE_STATUS'])\n",
    "dfclean = dfclean.dropna(subset=['PW_SOC_TITLE'])\n",
    "dfclean = dfclean.dropna(subset=['EMPLOYER_NAME'])\n",
    "#Remove Withdrawn\n",
    "dfclean = dfclean[dfclean.CASE_STATUS != 'Withdrawn']\n",
    "#Remove Pay frequency other than year\n",
    "dfclean = dfclean[dfclean.WAGE_OFFER_UNIT_OF_PAY_9089 != 'Bi-Weekly']\n",
    "dfclean = dfclean[dfclean.WAGE_OFFER_UNIT_OF_PAY_9089 != 'Month']\n",
    "dfclean = dfclean[dfclean.WAGE_OFFER_UNIT_OF_PAY_9089 != 'Week']\n",
    "dfclean = dfclean[dfclean.WAGE_OFFER_UNIT_OF_PAY_9089 != 'Hour']\n",
    "dfclean = dfclean.astype({\"WAGE_OFFER_FROM_9089\": float, \"WAGE_OFFER_TO_9089\": float, \"PW_AMOUNT_9089\": float})"
   ]
  },
  {
   "cell_type": "code",
   "execution_count": 77,
   "metadata": {},
   "outputs": [],
   "source": [
    "#Specify Columns for X\n",
    "X = dfclean.iloc[: , [27,33,34]]\n",
    "# X df.iloc[: , [2,8,25,27,28,33,34]] This is code to identify all columns of interest\n",
    "#X1 = df[['WAGE_OFFER_FROM_9089', 'WAGE_OFFER_TO_9089', 'WAGE_OFFER_UNIT_OF_PAY_9089', 'PW_AMOUNT_9089', 'CASE_STATUS']]\n",
    "X_scaled = preprocessing.scale(X)\n",
    "dummies = pd.get_dummies(dfclean, columns = [\"CASE_STATUS\", \"EMPLOYER_NAME\", \"PW_SOC_TITLE\"])\n",
    "dummies.iloc[: , [27,33,34]] = X_scaled\n",
    "dummiesnum = dummies.iloc[: , [27,33,34]]"
   ]
  },
  {
   "cell_type": "code",
   "execution_count": 79,
   "metadata": {},
   "outputs": [
    {
     "name": "stdout",
     "output_type": "stream",
     "text": [
      "{1: -114099.0, 2: -73777.62492272913, 3: -49544.20665411737, 4: -33778.514752261784, 5: -25992.780995727848, 6: -21457.906449169426, 7: -18765.602755439704, 8: -16507.562960233143, 9: -14481.749191427794}\n"
     ]
    }
   ],
   "source": [
    "#Create empty dictionary\n",
    "performance_map = {}\n",
    "\n",
    "#Measuring the performance values 'k'\n",
    "for k in range(1,10):\n",
    "    kmeans = KMeans(n_clusters=k, random_state=11).fit(dummiesnum)\n",
    "    kmeans.cluster_centers_ \n",
    "    kmeans.inertia_ #Sum of squared distances of samples to their closest cluster center.\n",
    "    performance_map[k] = kmeans.score(dummiesnum)\n",
    "print(performance_map)"
   ]
  },
  {
   "cell_type": "code",
   "execution_count": 81,
   "metadata": {},
   "outputs": [
    {
     "data": {
      "image/png": "[encoded data removed]",
      "text/plain": [
       "<Figure size 432x288 with 1 Axes>"
      ]
     },
     "metadata": {
      "needs_background": "light"
     },
     "output_type": "display_data"
    }
   ],
   "source": [
    "import matplotlib.pyplot as plt \n",
    "# use the elbow method to determine number of clusters\n",
    "plt.scatter(performance_map.keys(),performance_map.values())\n",
    "plt.plot(performance_map.keys(),performance_map.values())\n",
    "plt.show()"
   ]
  },
  {
   "cell_type": "code",
   "execution_count": 82,
   "metadata": {},
   "outputs": [
    {
     "data": {
      "text/plain": [
       "array([0, 2, 0, ..., 4, 4, 2])"
      ]
     },
     "execution_count": 82,
     "metadata": {},
     "output_type": "execute_result"
    }
   ],
   "source": [
    "kmeans = KMeans(n_clusters=5, random_state=11).fit(dummiesnum)\n",
    "kmeans.labels_"
   ]
  },
  {
   "cell_type": "code",
   "execution_count": 83,
   "metadata": {},
   "outputs": [],
   "source": [
    "#add cluster labels to data and save to Excel\n",
    "dfclean[\"label\"] = kmeans.labels_\n",
    "dfclean.to_excel(\"output.xlsx\")"
   ]
  }
 ],
 "metadata": {
  "kernelspec": {
   "display_name": "Python 3",
   "language": "python",
   "name": "python3"
  },
  "language_info": {
   "codemirror_mode": {
    "name": "ipython",
    "version": 3
   },
   "file_extension": ".py",
   "mimetype": "text/x-python",
   "name": "python",
   "nbconvert_exporter": "python",
   "pygments_lexer": "ipython3",
   "version": "3.7.1"
  }
 },
 "nbformat": 4,
 "nbformat_minor": 2
}
